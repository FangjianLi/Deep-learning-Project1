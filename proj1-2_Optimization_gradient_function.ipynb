{
 "cells": [
  {
   "cell_type": "markdown",
   "metadata": {},
   "source": [
    "### 1.Setup"
   ]
  },
  {
   "cell_type": "code",
   "execution_count": 14,
   "metadata": {},
   "outputs": [
    {
     "name": "stdout",
     "output_type": "stream",
     "text": [
      "tf version: 1.14.0\n"
     ]
    }
   ],
   "source": [
    "import tensorflow as tf\n",
    "import matplotlib.pyplot as plt\n",
    "import numpy as np\n",
    "#tf.logging.set_verbosity(tf.logging.ERROR) \n",
    "\n",
    "print(\"tf version: {}\".format(tf.__version__))\n",
    "tf.set_random_seed(1)\n",
    "np.random.seed(1)\n",
    "\n",
    "tf.reset_default_graph()"
   ]
  },
  {
   "cell_type": "markdown",
   "metadata": {},
   "source": [
    "### 2. Get the data"
   ]
  },
  {
   "cell_type": "code",
   "execution_count": 15,
   "metadata": {},
   "outputs": [
    {
     "data": {
      "image/png": "[encoded data removed]",
      "text/plain": [
       "<Figure size 432x288 with 1 Axes>"
      ]
     },
     "metadata": {
      "needs_background": "light"
     },
     "output_type": "display_data"
    }
   ],
   "source": [
    "x = np.linspace(-1, 10, 2000)[:, np.newaxis]\n",
    "noise = np.random.normal(0, 0.01, size=x.shape)\n",
    "y = np.cos(x)*2*x + 2 \n",
    "\n",
    "plt.scatter(x,y)\n",
    "plt.xlabel('x', fontsize = 20)  \n",
    "plt.ylabel('y', fontsize = 20)\n",
    "plt.show()"
   ]
  },
  {
   "cell_type": "markdown",
   "metadata": {},
   "source": [
    "### 3. Build the neural network "
   ]
  },
  {
   "cell_type": "markdown",
   "metadata": {},
   "source": [
    "#### 3.1 setup the neural network"
   ]
  },
  {
   "cell_type": "code",
   "execution_count": 16,
   "metadata": {},
   "outputs": [
    {
     "name": "stdout",
     "output_type": "stream",
     "text": [
      "WARNING:tensorflow:Entity <bound method Dense.call of <tensorflow.python.layers.core.Dense object at 0x7fc3c4612da0>> could not be transformed and will be executed as-is. Please report this to the AutgoGraph team. When filing the bug, set the verbosity to 10 (on Linux, `export AUTOGRAPH_VERBOSITY=10`) and attach the full output. Cause: converting <bound method Dense.call of <tensorflow.python.layers.core.Dense object at 0x7fc3c4612da0>>: AttributeError: module 'gast' has no attribute 'Index'\n",
      "WARNING: Entity <bound method Dense.call of <tensorflow.python.layers.core.Dense object at 0x7fc3c4612da0>> could not be transformed and will be executed as-is. Please report this to the AutgoGraph team. When filing the bug, set the verbosity to 10 (on Linux, `export AUTOGRAPH_VERBOSITY=10`) and attach the full output. Cause: converting <bound method Dense.call of <tensorflow.python.layers.core.Dense object at 0x7fc3c4612da0>>: AttributeError: module 'gast' has no attribute 'Index'\n",
      "WARNING:tensorflow:Entity <bound method Dense.call of <tensorflow.python.layers.core.Dense object at 0x7fc3c4612da0>> could not be transformed and will be executed as-is. Please report this to the AutgoGraph team. When filing the bug, set the verbosity to 10 (on Linux, `export AUTOGRAPH_VERBOSITY=10`) and attach the full output. Cause: converting <bound method Dense.call of <tensorflow.python.layers.core.Dense object at 0x7fc3c4612da0>>: AttributeError: module 'gast' has no attribute 'Index'\n",
      "WARNING: Entity <bound method Dense.call of <tensorflow.python.layers.core.Dense object at 0x7fc3c4612da0>> could not be transformed and will be executed as-is. Please report this to the AutgoGraph team. When filing the bug, set the verbosity to 10 (on Linux, `export AUTOGRAPH_VERBOSITY=10`) and attach the full output. Cause: converting <bound method Dense.call of <tensorflow.python.layers.core.Dense object at 0x7fc3c4612da0>>: AttributeError: module 'gast' has no attribute 'Index'\n",
      "WARNING:tensorflow:Entity <bound method Dense.call of <tensorflow.python.layers.core.Dense object at 0x7fc3c45aa400>> could not be transformed and will be executed as-is. Please report this to the AutgoGraph team. When filing the bug, set the verbosity to 10 (on Linux, `export AUTOGRAPH_VERBOSITY=10`) and attach the full output. Cause: converting <bound method Dense.call of <tensorflow.python.layers.core.Dense object at 0x7fc3c45aa400>>: AttributeError: module 'gast' has no attribute 'Index'\n",
      "WARNING: Entity <bound method Dense.call of <tensorflow.python.layers.core.Dense object at 0x7fc3c45aa400>> could not be transformed and will be executed as-is. Please report this to the AutgoGraph team. When filing the bug, set the verbosity to 10 (on Linux, `export AUTOGRAPH_VERBOSITY=10`) and attach the full output. Cause: converting <bound method Dense.call of <tensorflow.python.layers.core.Dense object at 0x7fc3c45aa400>>: AttributeError: module 'gast' has no attribute 'Index'\n",
      "WARNING:tensorflow:Entity <bound method Dense.call of <tensorflow.python.layers.core.Dense object at 0x7fc3c46142b0>> could not be transformed and will be executed as-is. Please report this to the AutgoGraph team. When filing the bug, set the verbosity to 10 (on Linux, `export AUTOGRAPH_VERBOSITY=10`) and attach the full output. Cause: converting <bound method Dense.call of <tensorflow.python.layers.core.Dense object at 0x7fc3c46142b0>>: AttributeError: module 'gast' has no attribute 'Index'\n",
      "WARNING: Entity <bound method Dense.call of <tensorflow.python.layers.core.Dense object at 0x7fc3c46142b0>> could not be transformed and will be executed as-is. Please report this to the AutgoGraph team. When filing the bug, set the verbosity to 10 (on Linux, `export AUTOGRAPH_VERBOSITY=10`) and attach the full output. Cause: converting <bound method Dense.call of <tensorflow.python.layers.core.Dense object at 0x7fc3c46142b0>>: AttributeError: module 'gast' has no attribute 'Index'\n"
     ]
    }
   ],
   "source": [
    "input_x = tf.placeholder(tf.float32, [None, 1]) \n",
    "output_y = tf.placeholder(tf.float32, [None, 1]) \n",
    "\n",
    "with tf.variable_scope(\"DNN_1_model\"):\n",
    "    h1_a = tf.layers.dense(inputs=input_x, units=10, activation=tf.nn.relu, name='h1_a')\n",
    "    h2_a = tf.layers.dense(inputs=h1_a, units=10, activation=tf.nn.relu, name='h2_a')\n",
    "    h3_a = tf.layers.dense(inputs=h2_a, units=10, activation=tf.nn.relu, name='h3_a') \n",
    "    output_a = tf.layers.dense(inputs=h3_a, units=1, name='output_a')\n",
    "\n",
    "\n",
    "    \n",
    "    \n",
    "trainable_variable_a = tf.get_collection(tf.GraphKeys.TRAINABLE_VARIABLES, \"DNN_1_model\")\n",
    "\n",
    "loss_a = tf.losses.mean_squared_error(output_y, output_a)\n",
    "\n",
    "optimizer_a = tf.train.AdamOptimizer(learning_rate=1e-4)\n",
    "\n",
    "optimizer_g = tf.train.GradientDescentOptimizer(learning_rate=0.00005)\n",
    "\n",
    "train_op_a = optimizer_a.minimize(loss_a, var_list= trainable_variable_a)\n",
    "\n",
    "\n",
    "\n",
    "\n",
    "\n",
    "grads = tf.gradients(loss_a, trainable_variable_a)\n",
    "\n"
   ]
  },
  {
   "cell_type": "markdown",
   "metadata": {},
   "source": [
    "#### 3.2 play with the parameters"
   ]
  },
  {
   "cell_type": "code",
   "execution_count": 17,
   "metadata": {},
   "outputs": [],
   "source": [
    "    def flatten_list_square(tensor_list):\n",
    "        return tf.concat([flatten(t)**2 for t in tensor_list], axis=0)\n",
    "    \n",
    "    def flatten_list(tensor_list):\n",
    "        return tf.concat([flatten(t) for t in tensor_list], axis=0)\n",
    "\n",
    "    def flatten(tensor):\n",
    "        return tf.reshape(tensor, shape=(-1,))"
   ]
  },
  {
   "cell_type": "code",
   "execution_count": 18,
   "metadata": {},
   "outputs": [],
   "source": [
    "def get_weights_variable(layer_name):\n",
    "    \n",
    "    with tf.variable_scope(layer_name, reuse=True):\n",
    "        variable = tf.get_variable('kernel')\n",
    "\n",
    "    return variable\n",
    "\n",
    "weights_whole = []\n",
    "\n",
    "weights_h1a = get_weights_variable(layer_name='DNN_1_model/h1_a')\n",
    "weights_whole.append(weights_h1a)\n",
    "weights_h2a = get_weights_variable(layer_name='DNN_1_model/h2_a')\n",
    "weights_whole.append(weights_h2a)\n",
    "weights_h3a = get_weights_variable(layer_name='DNN_1_model/h3_a')\n",
    "weights_whole.append(weights_h3a)\n",
    "\n",
    "\n",
    "#print(weights_h2a)\n",
    "\n",
    "\n",
    "flatten_weights = flatten_list(trainable_variable_a)\n",
    "\n",
    "hessians_weights_h1a = tf.hessians(loss_a,weights_h1a)[0]\n",
    "hessians_weights_h2a = tf.hessians(loss_a,weights_h2a)[0]\n",
    "hessians_weights_h3a = tf.hessians(loss_a,weights_h3a)[0]\n",
    "\n",
    "hessians = [hessians_weights_h1a, hessians_weights_h2a, hessians_weights_h3a]\n",
    "\n",
    "\n",
    "flatten_grads = tf.sqrt(tf.reduce_sum(flatten_list_square(grads)))\n",
    "\n"
   ]
  },
  {
   "cell_type": "code",
   "execution_count": 19,
   "metadata": {},
   "outputs": [],
   "source": [
    "train_op_g = optimizer_a.minimize(0.000001*flatten_grads, var_list= trainable_variable_a)"
   ]
  },
  {
   "cell_type": "code",
   "execution_count": 20,
   "metadata": {},
   "outputs": [],
   "source": [
    "def list_tensor_pow(t1):\n",
    "    return tf.concat([t**2 for t in t1], axis=0)"
   ]
  },
  {
   "cell_type": "code",
   "execution_count": 21,
   "metadata": {},
   "outputs": [
    {
     "name": "stdout",
     "output_type": "stream",
     "text": [
      "251\n",
      "210\n"
     ]
    }
   ],
   "source": [
    "def get_total_para_num(tf_variables):\n",
    "    total_parameters = 0\n",
    "    for variable in tf_variables:\n",
    "        shape = variable.get_shape()\n",
    "        variable_parameters = 1\n",
    "        for dim in shape:\n",
    "            variable_parameters *= dim.value\n",
    "        total_parameters += variable_parameters\n",
    "    return total_parameters\n",
    "\n",
    "print(get_total_para_num(trainable_variable_a))\n",
    "print(get_total_para_num(weights_whole))\n"
   ]
  },
  {
   "cell_type": "code",
   "execution_count": 22,
   "metadata": {},
   "outputs": [],
   "source": [
    "def flatten_vector_tf(vector):\n",
    "    vector_flatten = []\n",
    "    for i in range(len(vector)):\n",
    "        print(len(vector))\n",
    "        x = vector[i]\n",
    "        print(x)\n",
    "        vector_flatten.extend(x)\n",
    "    return vector_flatten"
   ]
  },
  {
   "cell_type": "code",
   "execution_count": 23,
   "metadata": {},
   "outputs": [],
   "source": [
    "def flatten_vector(vector):\n",
    "    vector_flatten = []\n",
    "    for i in range(len(vector)):\n",
    "        x = np.array(vector[i]).flatten()\n",
    "        vector_flatten.extend(x)\n",
    "    return np.array(vector_flatten)"
   ]
  },
  {
   "cell_type": "markdown",
   "metadata": {},
   "source": [
    "#### 3.3 train the network"
   ]
  },
  {
   "cell_type": "code",
   "execution_count": 24,
   "metadata": {},
   "outputs": [],
   "source": [
    "from numpy import linalg as LA\n",
    "\n",
    "   \n",
    "train_batch_size = 64\n",
    "\n",
    "with tf.Session() as sess:\n",
    "    sess.run(tf.global_variables_initializer()) \n",
    "\n",
    "    list_loss_a = []\n",
    "    \n",
    "    list_iter = []\n",
    "    \n",
    "    list_weights = []\n",
    "    \n",
    "    list_grads = []\n",
    "    \n",
    "    list_minimal_ratio = []\n",
    "    \n",
    "    \n",
    "    for iteration in range(30000):\n",
    "            \n",
    "        feed_dict_train = {input_x: x, output_y: y}\n",
    "            \n",
    "        if iteration % 100 == 0:\n",
    "            list_loss_a.append(sess.run(loss_a, feed_dict = feed_dict_train))\n",
    "            list_iter.append(iteration)\n",
    "            #grads_a = flatten_vector(sess.run(grads, feed_dict = feed_dict_train))\n",
    "            gradient_norm = sess.run(flatten_grads, feed_dict = feed_dict_train)\n",
    "            hessians_a = sess.run(hessians, feed_dict = feed_dict_train)\n",
    "            \n",
    "            list_e_value = []\n",
    "            for hessians_b  in hessians_a:\n",
    "                corrected_shape = (np.shape(hessians_b)[0]*np.shape(hessians_b)[1], \n",
    "                np.shape(hessians_b)[2]* np.shape(hessians_b)[3])\n",
    "                v1, _ = LA.eig(np.reshape(hessians_b, corrected_shape))\n",
    "                list_e_value.extend(flatten_vector(v1))      \n",
    "            list_minimal_ratio.append(len(np.argwhere(np.array(list_e_value)==0))/210)\n",
    "            #print(np.shape(list_e_value))\n",
    "            weights = flatten_vector(sess.run(weights_whole))\n",
    "        \n",
    "\n",
    "            list_grads.append(gradient_norm)\n",
    "            list_weights.append(weights)\n",
    "            \n",
    "        sess.run(train_op_a, feed_dict = feed_dict_train)\n",
    "            \n",
    "    for iteration in range(30000,35000, 1):\n",
    "        \n",
    "        feed_dict_train = {input_x: x, output_y: y}\n",
    "            \n",
    "        if iteration % 100 == 0:\n",
    "            list_loss_a.append(sess.run(loss_a, feed_dict = feed_dict_train))\n",
    "            list_iter.append(iteration)\n",
    "            #grads_a = flatten_vector(sess.run(grads, feed_dict = feed_dict_train))\n",
    "            gradient_norm = sess.run(flatten_grads, feed_dict = feed_dict_train)\n",
    "            weights = flatten_vector(sess.run(weights_whole))\n",
    "\n",
    "            #print(flatten_grads_a)\n",
    "            #gradient_norm = np.sqrt(np.sum(grads_a**2))\n",
    "            #print(gradient_norm)\n",
    "            list_grads.append(gradient_norm)\n",
    "            list_weights.append(weights)\n",
    "            \n",
    "        sess.run(train_op_g, feed_dict = feed_dict_train)\n",
    "        \n",
    "            \n",
    "                \n",
    "        \n",
    "        \n",
    "    pred_a = sess.run(output_a, feed_dict = feed_dict_train)\n",
    "    \n",
    "          \n",
    "        \n",
    "        "
   ]
  },
  {
   "cell_type": "code",
   "execution_count": 25,
   "metadata": {},
   "outputs": [
    {
     "data": {
      "image/png": "[encoded data removed]",
      "text/plain": [
       "<Figure size 432x288 with 1 Axes>"
      ]
     },
     "metadata": {
      "needs_background": "light"
     },
     "output_type": "display_data"
    }
   ],
   "source": [
    "plt.plot(list_iter,list_loss_a, 'r-', lw=3, label = \"loss of DNN1\")\n",
    "plt.xlabel(\"# of iteration\", fontsize = 20)\n",
    "plt.ylabel(\"loss\", fontsize = 20)\n",
    "plt.legend()\n",
    "plt.show()\n",
    "            "
   ]
  },
  {
   "cell_type": "code",
   "execution_count": 26,
   "metadata": {},
   "outputs": [
    {
     "data": {
      "image/png": "[encoded data removed]",
      "text/plain": [
       "<Figure size 576x432 with 2 Axes>"
      ]
     },
     "metadata": {
      "needs_background": "light"
     },
     "output_type": "display_data"
    },
    {
     "name": "stdout",
     "output_type": "stream",
     "text": [
      "0.42159602\n",
      "0.3905593\n"
     ]
    }
   ],
   "source": [
    "fig, axs = plt.subplots(2)\n",
    "#fig.suptitle('Vertically stacked subplots')\n",
    "fig.set_size_inches(8, 6)\n",
    "axs[0].plot(list_iter, list_grads)\n",
    "axs[1].plot(list_iter,list_loss_a)\n",
    "axs[1].set_xlabel(\"# of iteration\",  fontsize = 20)\n",
    "axs[1].set_ylabel(\"loss\",  fontsize = 20)\n",
    "axs[0].set_ylabel(\"gradient norm\",  fontsize = 20)\n",
    "\n",
    "plt.show()\n",
    "\n",
    "\n",
    "index_1 = np.argmin(list_grads)\n",
    "print(list_grads[index_1])\n",
    "\n",
    "print(list_loss_a[index_1])\n",
    "#print(list_minimal_ratio[index_1])\n",
    "\n",
    "\n",
    "\n",
    "#print(list_weights[index_1])\n"
   ]
  },
  {
   "cell_type": "markdown",
   "metadata": {},
   "source": [
    "## run 100 times to find the loss and minimal ratio"
   ]
  },
  {
   "cell_type": "code",
   "execution_count": 30,
   "metadata": {},
   "outputs": [],
   "source": [
    "def get_the_minimial_ratio_and_loss(sess):\n",
    "    \n",
    "    sess.run(tf.global_variables_initializer())\n",
    "    list_loss_a = []\n",
    "    \n",
    "    list_iter = []\n",
    "    \n",
    "    list_weights = []\n",
    "    \n",
    "    list_grads = []\n",
    "    \n",
    "    list_minimal_ratio = []\n",
    "    \n",
    "    \n",
    "    for iteration in range(30000):\n",
    "            \n",
    "        feed_dict_train = {input_x: x, output_y: y}\n",
    "            \n",
    "        if iteration % 100 == 0:\n",
    "            list_loss_a.append(sess.run(loss_a, feed_dict = feed_dict_train))\n",
    "            list_iter.append(iteration)\n",
    "            \n",
    "            gradient_norm = sess.run(flatten_grads, feed_dict = feed_dict_train)\n",
    "            hessians_a = sess.run(hessians, feed_dict = feed_dict_train)\n",
    "            \n",
    "            list_e_value = []\n",
    "            for hessians_b  in hessians_a:\n",
    "                corrected_shape = (np.shape(hessians_b)[0]*np.shape(hessians_b)[1], \n",
    "                np.shape(hessians_b)[2]* np.shape(hessians_b)[3])\n",
    "                v1, _ = LA.eig(np.reshape(hessians_b, corrected_shape))\n",
    "                list_e_value.extend(flatten_vector(v1))      \n",
    "            list_minimal_ratio.append(len(np.argwhere(np.array(list_e_value)==0))/210)\n",
    "\n",
    "            weights = flatten_vector(sess.run(weights_whole))\n",
    "            list_grads.append(gradient_norm)\n",
    "            list_weights.append(weights)\n",
    "            \n",
    "        sess.run(train_op_a, feed_dict = feed_dict_train)\n",
    "        \n",
    "        \n",
    "    for iteration in range(30000,35000, 1):\n",
    "        \n",
    "        feed_dict_train = {input_x: x, output_y: y}\n",
    "            \n",
    "        if iteration % 100 == 0:\n",
    "            list_loss_a.append(sess.run(loss_a, feed_dict = feed_dict_train))\n",
    "            list_iter.append(iteration)\n",
    "            #grads_a = flatten_vector(sess.run(grads, feed_dict = feed_dict_train))\n",
    "            gradient_norm = sess.run(flatten_grads, feed_dict = feed_dict_train)\n",
    "            \n",
    "            hessians_a = sess.run(hessians, feed_dict = feed_dict_train)\n",
    "            \n",
    "            list_e_value = []\n",
    "            for hessians_b  in hessians_a:\n",
    "                corrected_shape = (np.shape(hessians_b)[0]*np.shape(hessians_b)[1], \n",
    "                np.shape(hessians_b)[2]* np.shape(hessians_b)[3])\n",
    "                v1, _ = LA.eig(np.reshape(hessians_b, corrected_shape))\n",
    "                list_e_value.extend(flatten_vector(v1))      \n",
    "            list_minimal_ratio.append(len(np.argwhere(np.array(list_e_value)==0))/210)\n",
    "            \n",
    "            \n",
    "            \n",
    "            weights = flatten_vector(sess.run(weights_whole))\n",
    "\n",
    "            #print(flatten_grads_a)\n",
    "            #gradient_norm = np.sqrt(np.sum(grads_a**2))\n",
    "            #print(gradient_norm)\n",
    "            list_grads.append(gradient_norm)\n",
    "            list_weights.append(weights)\n",
    "            \n",
    "        sess.run(train_op_g, feed_dict = feed_dict_train)\n",
    "        \n",
    "            \n",
    "    index_1 = np.argmin(list_grads[200:])+200\n",
    "            \n",
    "    return [list_grads[index_1], list_loss_a[index_1],list_minimal_ratio[index_1]]\n"
   ]
  },
  {
   "cell_type": "code",
   "execution_count": 31,
   "metadata": {},
   "outputs": [
    {
     "name": "stdout",
     "output_type": "stream",
     "text": [
      "0\n",
      "1\n",
      "2\n",
      "3\n",
      "4\n",
      "5\n",
      "6\n",
      "7\n",
      "8\n",
      "9\n",
      "10\n",
      "11\n",
      "12\n",
      "13\n",
      "14\n",
      "15\n",
      "16\n",
      "17\n",
      "18\n",
      "19\n",
      "20\n",
      "21\n",
      "22\n",
      "23\n",
      "24\n",
      "25\n",
      "26\n",
      "27\n",
      "28\n",
      "29\n",
      "30\n",
      "31\n",
      "32\n",
      "33\n",
      "34\n",
      "35\n",
      "36\n",
      "37\n",
      "38\n",
      "39\n",
      "40\n",
      "41\n",
      "42\n",
      "43\n",
      "44\n",
      "45\n",
      "46\n",
      "47\n",
      "48\n",
      "49\n",
      "50\n",
      "51\n",
      "52\n",
      "53\n",
      "54\n",
      "55\n",
      "56\n",
      "57\n",
      "58\n",
      "59\n",
      "60\n",
      "61\n",
      "62\n",
      "63\n",
      "64\n",
      "65\n",
      "66\n",
      "67\n",
      "68\n",
      "69\n",
      "70\n",
      "71\n",
      "72\n",
      "73\n",
      "74\n",
      "75\n",
      "76\n",
      "77\n",
      "78\n",
      "79\n",
      "80\n",
      "81\n",
      "82\n",
      "83\n",
      "84\n",
      "85\n",
      "86\n",
      "87\n",
      "88\n",
      "89\n",
      "90\n",
      "91\n",
      "92\n",
      "93\n",
      "94\n",
      "95\n",
      "96\n",
      "97\n",
      "98\n",
      "99\n"
     ]
    }
   ],
   "source": [
    "data_list=[]\n",
    "with tf.Session() as sess1:\n",
    "    for i in range(100):\n",
    "        print(i)\n",
    "        data_list.append(get_the_minimial_ratio_and_loss(sess1))"
   ]
  },
  {
   "cell_type": "code",
   "execution_count": 32,
   "metadata": {},
   "outputs": [
    {
     "name": "stdout",
     "output_type": "stream",
     "text": [
      "(100, 3)\n",
      "[1.73772001e+00 5.08047462e-01 6.65718913e-02 4.54813153e-01\n",
      " 7.87138846e-03 3.11730765e-02 1.48254940e-02 3.94904733e-01\n",
      " 5.46486415e-02 2.17206001e+00 1.76300704e+00 5.30082583e-02\n",
      " 1.74297976e+00 1.73706591e+00 3.60825121e-01 2.06346326e-02\n",
      " 5.48615269e-02 4.71940011e-01 2.80972179e-02 2.13532709e-02\n",
      " 3.87961537e-01 6.74804568e-01 4.43362862e-01 2.18770709e-02\n",
      " 2.21512113e-02 1.73797989e+00 5.25886659e-03 3.47303003e-02\n",
      " 1.74483955e-02 6.35475144e-02 8.63395259e-02 1.73738718e+00\n",
      " 1.73808670e+00 1.21722734e-02 8.63748323e-03 2.23088288e+00\n",
      " 1.94781837e+01 8.61845911e-03 4.02504727e-02 6.05225489e-02\n",
      " 2.24777246e+00 1.12852724e-02 5.33128120e-02 2.22579297e-02\n",
      " 3.83889586e-01 1.82943707e+01 3.38678807e-02 3.59120220e-01\n",
      " 2.04578762e+01 4.19106811e-01 3.57616879e-02 5.35082892e-02\n",
      " 2.65334081e-02 3.94581854e-02 2.72750111e+01 1.95082741e+01\n",
      " 8.73942394e-03 2.39767842e-02 5.74833006e-02 5.45649044e-03\n",
      " 5.21865189e-02 3.28175933e-03 2.20434964e-02 3.48907895e-03\n",
      " 4.90699634e-02 5.23386933e-02 1.35348067e-02 1.82472820e+01\n",
      " 1.73915136e+00 2.18617344e+00 1.30490372e-02 1.73684549e+00\n",
      " 1.28854103e-02 1.73777294e+00 1.10475691e-02 5.37817702e-02\n",
      " 6.59031644e-02 5.35455085e-02 5.75554781e-02 5.27370989e-01\n",
      " 5.62337518e-01 1.09946895e-02 2.89948005e-02 6.23616064e-03\n",
      " 8.47380050e-03 5.35635054e-02 1.73737383e+00 5.30684851e-02\n",
      " 3.87957692e-02 1.73689783e+00 1.18021267e-02 5.38806692e-02\n",
      " 2.11753063e-02 9.06572118e-03 1.74013162e+00 1.74370015e+00\n",
      " 1.73682094e+00 3.48393321e-02 5.90174366e-03 5.46923690e-02]\n"
     ]
    }
   ],
   "source": [
    "print(np.shape(data_list))\n",
    "print(np.array(data_list)[:,1])"
   ]
  },
  {
   "cell_type": "code",
   "execution_count": 35,
   "metadata": {},
   "outputs": [
    {
     "data": {
      "image/png": "[encoded data removed]",
      "text/plain": [
       "<Figure size 432x288 with 1 Axes>"
      ]
     },
     "metadata": {
      "needs_background": "light"
     },
     "output_type": "display_data"
    }
   ],
   "source": [
    "plt.scatter(np.array(data_list)[:,2],np.array(data_list)[:,1])\n",
    "plt.xlim([0,0.8])\n",
    "plt.ylim([0,10])\n",
    "plt.xlabel(\"minimal ratio\", fontsize = 20)\n",
    "plt.ylabel(\"loss\", fontsize = 20)\n",
    "plt.show()"
   ]
  },
  {
   "cell_type": "code",
   "execution_count": 71,
   "metadata": {},
   "outputs": [
    {
     "name": "stdout",
     "output_type": "stream",
     "text": [
      "0\n"
     ]
    }
   ],
   "source": [
    "x1 = [7,8, 6, 5, 4]\n",
    "\n",
    "index=np.argmax(x1[2:])\n",
    "print(index)"
   ]
  },
  {
   "cell_type": "code",
   "execution_count": null,
   "metadata": {},
   "outputs": [],
   "source": []
  }
 ],
 "metadata": {
  "kernelspec": {
   "display_name": "jubo_1",
   "language": "python",
   "name": "jubo_1"
  },
  "language_info": {
   "codemirror_mode": {
    "name": "ipython",
    "version": 3
   },
   "file_extension": ".py",
   "mimetype": "text/x-python",
   "name": "python",
   "nbconvert_exporter": "python",
   "pygments_lexer": "ipython3",
   "version": "3.6.12"
  }
 },
 "nbformat": 4,
 "nbformat_minor": 4
}
